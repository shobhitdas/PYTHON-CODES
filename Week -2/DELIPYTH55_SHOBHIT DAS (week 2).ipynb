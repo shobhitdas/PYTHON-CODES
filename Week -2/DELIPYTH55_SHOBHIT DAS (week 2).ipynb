{
 "cells": [
  {
   "cell_type": "code",
   "execution_count": null,
   "id": "2ced599f",
   "metadata": {},
   "outputs": [],
   "source": [
    "#Q1"
   ]
  },
  {
   "cell_type": "code",
   "execution_count": 4,
   "id": "88bb350a",
   "metadata": {},
   "outputs": [
    {
     "name": "stdout",
     "output_type": "stream",
     "text": [
      "enter no elements:26\n",
      "a\n",
      "b\n",
      "c\n",
      "d\n",
      "e\n",
      "f\n",
      "g\n",
      "h\n",
      "i\n",
      "j\n",
      "k\n",
      "l\n",
      "m\n",
      "n\n",
      "o\n",
      "p\n",
      "q\n",
      "r\n",
      "s\n",
      "t\n",
      "u\n",
      "v\n",
      "w\n",
      "x\n",
      "y\n",
      "z\n",
      "enter no of values:5\n",
      "0\n",
      "4\n",
      "8\n",
      "14\n",
      "20\n",
      "0     a\n",
      "1     b\n",
      "2     c\n",
      "3     d\n",
      "4     e\n",
      "5     f\n",
      "6     g\n",
      "7     h\n",
      "8     i\n",
      "9     j\n",
      "10    k\n",
      "11    l\n",
      "12    m\n",
      "13    n\n",
      "14    o\n",
      "15    p\n",
      "16    q\n",
      "17    r\n",
      "18    s\n",
      "19    t\n",
      "20    u\n",
      "21    v\n",
      "22    w\n",
      "23    x\n",
      "24    y\n",
      "25    z\n",
      "dtype: object\n",
      "\n",
      "Extract items at given positions of the said series:\n",
      "0     a\n",
      "4     e\n",
      "8     i\n",
      "14    o\n",
      "20    u\n",
      "dtype: object\n"
     ]
    }
   ],
   "source": [
    "import pandas as pd\n",
    "list_input=list()\n",
    "n=int(input(\"enter no elements:\"))\n",
    "for i in range(0,n):\n",
    "    l=input()\n",
    "    list_input.append(l)\n",
    "num_series = pd.Series(list_input)\n",
    "list_pos=list()\n",
    "x=int(input(\"enter no of values:\"))\n",
    "for i in range(0,x):\n",
    "    o=input()\n",
    "    list_pos.append(o)\n",
    "    \n",
    "\n",
    "print(num_series)\n",
    "result = num_series.take(list_pos)\n",
    "print(\"\\nExtract items at given positions of the said series:\")\n",
    "print(result)  \n"
   ]
  },
  {
   "cell_type": "code",
   "execution_count": 26,
   "id": "df9c5f96",
   "metadata": {},
   "outputs": [
    {
     "name": "stdout",
     "output_type": "stream",
     "text": [
      "   a   b   c\n",
      "0  3  11  33\n",
      "1  5   4  20\n",
      "2  9   2  18\n"
     ]
    }
   ],
   "source": [
    "#Q2\n",
    "import pandas as pd\n",
    "from pandas import  DataFrame\n",
    "d = ({'a': [3,8,5,2,9], 'b': [11, 1, 4, 7, 2]})\n",
    "df=pd.DataFrame(d)\n",
    "value=df.a*df.b\n",
    "df['c']=value\n",
    "df=df.loc[df['c']>=15]\n",
    "df=DataFrame.reset_index(df)\n",
    "df.drop('index',inplace= True, axis=1)\n",
    "print(df)"
   ]
  },
  {
   "cell_type": "code",
   "execution_count": null,
   "id": "b9b31b08",
   "metadata": {},
   "outputs": [],
   "source": []
  }
 ],
 "metadata": {
  "kernelspec": {
   "display_name": "Python 3 (ipykernel)",
   "language": "python",
   "name": "python3"
  },
  "language_info": {
   "codemirror_mode": {
    "name": "ipython",
    "version": 3
   },
   "file_extension": ".py",
   "mimetype": "text/x-python",
   "name": "python",
   "nbconvert_exporter": "python",
   "pygments_lexer": "ipython3",
   "version": "3.9.12"
  }
 },
 "nbformat": 4,
 "nbformat_minor": 5
}
